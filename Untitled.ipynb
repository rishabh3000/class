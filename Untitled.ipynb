{
 "cells": [
  {
   "cell_type": "code",
   "execution_count": 2,
   "metadata": {},
   "outputs": [],
   "source": [
    "with open('hello.txt','r') as f:\n",
    "    a=f.readlines()"
   ]
  },
  {
   "cell_type": "code",
   "execution_count": 9,
   "metadata": {},
   "outputs": [
    {
     "name": "stdout",
     "output_type": "stream",
     "text": [
      "Name is rishu\n",
      "Train is metro\n"
     ]
    }
   ],
   "source": [
    "class railwayform:\n",
    "    formtype = 'railwayform'\n",
    "    def printdata(self):\n",
    "        print(f'Name is {self.name}')\n",
    "        print(f'Train is {self.train}')\n",
    "        \n",
    "rishuapplication = railwayform()\n",
    "rishuapplication.name = 'rishu'\n",
    "rishuapplication.train = 'metro'\n",
    "rishuapplication.printdata()"
   ]
  },
  {
   "cell_type": "code",
   "execution_count": 10,
   "metadata": {},
   "outputs": [
    {
     "name": "stdout",
     "output_type": "stream",
     "text": [
      "Google\n",
      "Google\n",
      "100000\n"
     ]
    }
   ],
   "source": [
    "class Employee:\n",
    "    company='Google'\n",
    "    salary = 100000\n",
    "rishu = Employee()\n",
    "AT = Employee()\n",
    "print(rishu.company)\n",
    "print(AT.company)\n",
    "print(rishu.salary)"
   ]
  },
  {
   "cell_type": "code",
   "execution_count": 14,
   "metadata": {},
   "outputs": [
    {
     "name": "stdout",
     "output_type": "stream",
     "text": [
      "salary is 100k\n"
     ]
    }
   ],
   "source": [
    "class Employee:\n",
    "    company = 'google'\n",
    "    def getsalary(self):\n",
    "        print('salary is 100k')\n",
    "rishu= Employee()\n",
    "Employee.getsalary(rishu)"
   ]
  },
  {
   "cell_type": "code",
   "execution_count": 19,
   "metadata": {},
   "outputs": [
    {
     "name": "stdout",
     "output_type": "stream",
     "text": [
      "sorry\n",
      "sorry\n"
     ]
    }
   ],
   "source": [
    "for i in range(1,3):\n",
    "    print('sorry')"
   ]
  },
  {
   "cell_type": "code",
   "execution_count": null,
   "metadata": {},
   "outputs": [],
   "source": []
  }
 ],
 "metadata": {
  "kernelspec": {
   "display_name": "Python 3",
   "language": "python",
   "name": "python3"
  },
  "language_info": {
   "codemirror_mode": {
    "name": "ipython",
    "version": 3
   },
   "file_extension": ".py",
   "mimetype": "text/x-python",
   "name": "python",
   "nbconvert_exporter": "python",
   "pygments_lexer": "ipython3",
   "version": "3.8.3"
  }
 },
 "nbformat": 4,
 "nbformat_minor": 4
}
